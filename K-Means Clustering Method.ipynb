{
 "cells": [
  {
   "cell_type": "code",
   "execution_count": 1,
   "metadata": {},
   "outputs": [],
   "source": [
    "#Data import\n",
    "\n",
    "import pandas as pd\n",
    "import numpy as np\n",
    "import math\n",
    "from sklearn.cluster import KMeans\n",
    "import matplotlib.pyplot as plt\n",
    "\n",
    "COMPLETE_df = pd.read_csv(\"Stock Data (2012-2022)/COMPLETE_data.csv\", index_col = 0, parse_dates = True).dropna()\n",
    "\n",
    "SPY_df = pd.read_csv(\"Stock Data (2012-2022)/SPY_data.csv\", index_col = 0, parse_dates = True).dropna()"
   ]
  },
  {
   "cell_type": "code",
   "execution_count": 2,
   "metadata": {},
   "outputs": [],
   "source": [
    "#Create the training and testing datas sets\n",
    "\n",
    "TRAINING_df = COMPLETE_df.loc['2012-01-01':'2016-12-31']\n",
    "PRECOVID_TESTING_df = COMPLETE_df.loc['2017-01-01':'2019-12-31']\n",
    "COVID_TESTING_df = COMPLETE_df.loc['2020-01-01':'2022-01-01']\n",
    "\n",
    "TRAINING_MARKET_df = pd.DataFrame(SPY_df['Close']).loc['2012-01-01':'2016-12-31']"
   ]
  },
  {
   "cell_type": "code",
   "execution_count": 3,
   "metadata": {},
   "outputs": [
    {
     "data": {
      "text/plain": [
       "Index(['COP', 'CVX', 'SHEL', 'XOM', 'CDE', 'HL', 'NEM', 'RGLD', 'CVS', 'ELV',\n",
       "       'HCA', 'UNH', 'AAPL', 'AMZN', 'GOOG', 'MSFT', 'D', 'DUK', 'NEE', 'SO'],\n",
       "      dtype='object')"
      ]
     },
     "execution_count": 3,
     "metadata": {},
     "output_type": "execute_result"
    }
   ],
   "source": [
    "TRAINING_df.columns"
   ]
  },
  {
   "cell_type": "markdown",
   "metadata": {},
   "source": [
    "### First let's create a portfolio using the training data"
   ]
  },
  {
   "cell_type": "code",
   "execution_count": 4,
   "metadata": {},
   "outputs": [],
   "source": [
    "#Calculate the annual mean returns and variances\n",
    "\n",
    "daily_returns = TRAINING_df.pct_change().dropna()\n",
    "annual_mean_returns = daily_returns.mean() * 252\n",
    "annual_return_variance = daily_returns.var() * 252\n",
    "\n",
    "market_returns = TRAINING_MARKET_df.pct_change().dropna()"
   ]
  },
  {
   "cell_type": "code",
   "execution_count": 5,
   "metadata": {},
   "outputs": [],
   "source": [
    "TRAINING_df2 = pd.DataFrame(TRAINING_df.columns, columns=['Ticker'])\n",
    "TRAINING_df2['Annual Returns'] = annual_mean_returns.values\n",
    "TRAINING_df2['Annual Variances'] = annual_return_variance.values\n"
   ]
  },
  {
   "cell_type": "code",
   "execution_count": 6,
   "metadata": {},
   "outputs": [],
   "source": [
    "betas = np.array([])\n",
    "for i in TRAINING_df2.index:\n",
    "    symbol = TRAINING_df2['Ticker'][i]\n",
    "    rets = np.array(daily_returns[symbol])\n",
    "    mkt_rets = np.array(market_returns['Close'])\n",
    "    mkt_cov = np.cov(rets, mkt_rets)[0][1]\n",
    "    mkt_var = mkt_rets.var()\n",
    "    beta = np.array([mkt_cov/mkt_var])\n",
    "    betas = np.concatenate((betas, beta))\n",
    "    \n",
    "TRAINING_df2['Betas'] = betas"
   ]
  },
  {
   "cell_type": "code",
   "execution_count": 7,
   "metadata": {},
   "outputs": [
    {
     "data": {
      "text/html": [
       "<div>\n",
       "<style scoped>\n",
       "    .dataframe tbody tr th:only-of-type {\n",
       "        vertical-align: middle;\n",
       "    }\n",
       "\n",
       "    .dataframe tbody tr th {\n",
       "        vertical-align: top;\n",
       "    }\n",
       "\n",
       "    .dataframe thead th {\n",
       "        text-align: right;\n",
       "    }\n",
       "</style>\n",
       "<table border=\"1\" class=\"dataframe\">\n",
       "  <thead>\n",
       "    <tr style=\"text-align: right;\">\n",
       "      <th></th>\n",
       "      <th>Ticker</th>\n",
       "      <th>Annual Returns</th>\n",
       "      <th>Annual Variances</th>\n",
       "      <th>Betas</th>\n",
       "    </tr>\n",
       "  </thead>\n",
       "  <tbody>\n",
       "    <tr>\n",
       "      <th>0</th>\n",
       "      <td>COP</td>\n",
       "      <td>0.053882</td>\n",
       "      <td>0.076181</td>\n",
       "      <td>1.229764</td>\n",
       "    </tr>\n",
       "    <tr>\n",
       "      <th>1</th>\n",
       "      <td>CVX</td>\n",
       "      <td>0.071782</td>\n",
       "      <td>0.042252</td>\n",
       "      <td>1.071533</td>\n",
       "    </tr>\n",
       "    <tr>\n",
       "      <th>2</th>\n",
       "      <td>SHEL</td>\n",
       "      <td>0.021782</td>\n",
       "      <td>0.050823</td>\n",
       "      <td>1.037784</td>\n",
       "    </tr>\n",
       "    <tr>\n",
       "      <th>3</th>\n",
       "      <td>XOM</td>\n",
       "      <td>0.054754</td>\n",
       "      <td>0.030664</td>\n",
       "      <td>0.939941</td>\n",
       "    </tr>\n",
       "    <tr>\n",
       "      <th>4</th>\n",
       "      <td>CDE</td>\n",
       "      <td>-0.002884</td>\n",
       "      <td>0.406178</td>\n",
       "      <td>1.081356</td>\n",
       "    </tr>\n",
       "    <tr>\n",
       "      <th>5</th>\n",
       "      <td>HL</td>\n",
       "      <td>0.141216</td>\n",
       "      <td>0.307043</td>\n",
       "      <td>0.961650</td>\n",
       "    </tr>\n",
       "    <tr>\n",
       "      <th>6</th>\n",
       "      <td>NEM</td>\n",
       "      <td>-0.021780</td>\n",
       "      <td>0.163213</td>\n",
       "      <td>0.508015</td>\n",
       "    </tr>\n",
       "    <tr>\n",
       "      <th>7</th>\n",
       "      <td>RGLD</td>\n",
       "      <td>0.089522</td>\n",
       "      <td>0.188381</td>\n",
       "      <td>0.531687</td>\n",
       "    </tr>\n",
       "    <tr>\n",
       "      <th>8</th>\n",
       "      <td>CVS</td>\n",
       "      <td>0.160351</td>\n",
       "      <td>0.032281</td>\n",
       "      <td>0.786785</td>\n",
       "    </tr>\n",
       "    <tr>\n",
       "      <th>9</th>\n",
       "      <td>ELV</td>\n",
       "      <td>0.198703</td>\n",
       "      <td>0.058139</td>\n",
       "      <td>0.907745</td>\n",
       "    </tr>\n",
       "    <tr>\n",
       "      <th>10</th>\n",
       "      <td>HCA</td>\n",
       "      <td>0.333212</td>\n",
       "      <td>0.084755</td>\n",
       "      <td>0.932622</td>\n",
       "    </tr>\n",
       "    <tr>\n",
       "      <th>11</th>\n",
       "      <td>UNH</td>\n",
       "      <td>0.265784</td>\n",
       "      <td>0.044584</td>\n",
       "      <td>0.896916</td>\n",
       "    </tr>\n",
       "    <tr>\n",
       "      <th>12</th>\n",
       "      <td>AAPL</td>\n",
       "      <td>0.188954</td>\n",
       "      <td>0.068087</td>\n",
       "      <td>1.015140</td>\n",
       "    </tr>\n",
       "    <tr>\n",
       "      <th>13</th>\n",
       "      <td>AMZN</td>\n",
       "      <td>0.334733</td>\n",
       "      <td>0.095812</td>\n",
       "      <td>1.189581</td>\n",
       "    </tr>\n",
       "    <tr>\n",
       "      <th>14</th>\n",
       "      <td>GOOG</td>\n",
       "      <td>0.196299</td>\n",
       "      <td>0.054359</td>\n",
       "      <td>1.020132</td>\n",
       "    </tr>\n",
       "    <tr>\n",
       "      <th>15</th>\n",
       "      <td>MSFT</td>\n",
       "      <td>0.223789</td>\n",
       "      <td>0.054272</td>\n",
       "      <td>1.118661</td>\n",
       "    </tr>\n",
       "    <tr>\n",
       "      <th>16</th>\n",
       "      <td>D</td>\n",
       "      <td>0.125428</td>\n",
       "      <td>0.023711</td>\n",
       "      <td>0.540739</td>\n",
       "    </tr>\n",
       "    <tr>\n",
       "      <th>17</th>\n",
       "      <td>DUK</td>\n",
       "      <td>0.091736</td>\n",
       "      <td>0.023503</td>\n",
       "      <td>0.439980</td>\n",
       "    </tr>\n",
       "    <tr>\n",
       "      <th>18</th>\n",
       "      <td>NEE</td>\n",
       "      <td>0.186661</td>\n",
       "      <td>0.025655</td>\n",
       "      <td>0.562953</td>\n",
       "    </tr>\n",
       "    <tr>\n",
       "      <th>19</th>\n",
       "      <td>SO</td>\n",
       "      <td>0.073070</td>\n",
       "      <td>0.019811</td>\n",
       "      <td>0.385934</td>\n",
       "    </tr>\n",
       "  </tbody>\n",
       "</table>\n",
       "</div>"
      ],
      "text/plain": [
       "   Ticker  Annual Returns  Annual Variances     Betas\n",
       "0     COP        0.053882          0.076181  1.229764\n",
       "1     CVX        0.071782          0.042252  1.071533\n",
       "2    SHEL        0.021782          0.050823  1.037784\n",
       "3     XOM        0.054754          0.030664  0.939941\n",
       "4     CDE       -0.002884          0.406178  1.081356\n",
       "5      HL        0.141216          0.307043  0.961650\n",
       "6     NEM       -0.021780          0.163213  0.508015\n",
       "7    RGLD        0.089522          0.188381  0.531687\n",
       "8     CVS        0.160351          0.032281  0.786785\n",
       "9     ELV        0.198703          0.058139  0.907745\n",
       "10    HCA        0.333212          0.084755  0.932622\n",
       "11    UNH        0.265784          0.044584  0.896916\n",
       "12   AAPL        0.188954          0.068087  1.015140\n",
       "13   AMZN        0.334733          0.095812  1.189581\n",
       "14   GOOG        0.196299          0.054359  1.020132\n",
       "15   MSFT        0.223789          0.054272  1.118661\n",
       "16      D        0.125428          0.023711  0.540739\n",
       "17    DUK        0.091736          0.023503  0.439980\n",
       "18    NEE        0.186661          0.025655  0.562953\n",
       "19     SO        0.073070          0.019811  0.385934"
      ]
     },
     "execution_count": 7,
     "metadata": {},
     "output_type": "execute_result"
    }
   ],
   "source": [
    "TRAINING_df2"
   ]
  },
  {
   "cell_type": "code",
   "execution_count": 8,
   "metadata": {},
   "outputs": [
    {
     "data": {
      "text/plain": [
       "<BarContainer object of 20 artists>"
      ]
     },
     "execution_count": 8,
     "metadata": {},
     "output_type": "execute_result"
    },
    {
     "data": {
      "image/png": "[encoded data removed]",
      "text/plain": [
       "<Figure size 864x864 with 1 Axes>"
      ]
     },
     "metadata": {
      "needs_background": "light"
     },
     "output_type": "display_data"
    }
   ],
   "source": [
    "plt.figure(figsize=(12,12))\n",
    "plt.bar(TRAINING_df2['Ticker'].values, TRAINING_df2['Betas'].values)"
   ]
  },
  {
   "cell_type": "code",
   "execution_count": 9,
   "metadata": {},
   "outputs": [
    {
     "data": {
      "text/plain": [
       "Text(0, 0.5, 'WCSS')"
      ]
     },
     "execution_count": 9,
     "metadata": {},
     "output_type": "execute_result"
    },
    {
     "data": {
      "image/png": "[encoded data removed]",
      "text/plain": [
       "<Figure size 432x288 with 1 Axes>"
      ]
     },
     "metadata": {
      "needs_background": "light"
     },
     "output_type": "display_data"
    }
   ],
   "source": [
    "#Use the Elbow method to determine the number of clusters to use to group the stocks based on the beta values\n",
    "#Note the \"intertia\" is the Within-cluster Sum of Squares (WCSS)\n",
    "\n",
    "X = TRAINING_df2['Betas'].values.reshape(-1, 1)\n",
    "\n",
    "inertia_list = []\n",
    "for k in range(3,11):\n",
    "    #Create and train the model\n",
    "    kmeans = KMeans(n_clusters=k)\n",
    "    kmeans.fit(X)\n",
    "    inertia_list.append(kmeans.inertia_)\n",
    "\n",
    "#Plot the data\n",
    "plt.plot(range(3,11), inertia_list)\n",
    "plt.title('Elbow Curve')\n",
    "plt.xlabel('Number of Clusters')\n",
    "plt.xticks(range(3,11))\n",
    "plt.ylabel('WCSS')"
   ]
  },
  {
   "cell_type": "code",
   "execution_count": 10,
   "metadata": {},
   "outputs": [],
   "source": [
    "#From the elbow method we see that the optimum number of clusters is 7 as this is the point of diminishing returns\n",
    "#We now get the cluster labels / group for each stock\n",
    "\n",
    "kmeans = KMeans(n_clusters=7).fit(X)\n",
    "labels = kmeans.labels_"
   ]
  },
  {
   "cell_type": "code",
   "execution_count": 11,
   "metadata": {},
   "outputs": [],
   "source": [
    "TRAINING_df2['Group'] = labels"
   ]
  },
  {
   "cell_type": "code",
   "execution_count": 12,
   "metadata": {},
   "outputs": [
    {
     "data": {
      "text/html": [
       "<div>\n",
       "<style scoped>\n",
       "    .dataframe tbody tr th:only-of-type {\n",
       "        vertical-align: middle;\n",
       "    }\n",
       "\n",
       "    .dataframe tbody tr th {\n",
       "        vertical-align: top;\n",
       "    }\n",
       "\n",
       "    .dataframe thead th {\n",
       "        text-align: right;\n",
       "    }\n",
       "</style>\n",
       "<table border=\"1\" class=\"dataframe\">\n",
       "  <thead>\n",
       "    <tr style=\"text-align: right;\">\n",
       "      <th></th>\n",
       "      <th>Ticker</th>\n",
       "      <th>Annual Returns</th>\n",
       "      <th>Annual Variances</th>\n",
       "      <th>Betas</th>\n",
       "      <th>Group</th>\n",
       "    </tr>\n",
       "  </thead>\n",
       "  <tbody>\n",
       "    <tr>\n",
       "      <th>0</th>\n",
       "      <td>COP</td>\n",
       "      <td>0.053882</td>\n",
       "      <td>0.076181</td>\n",
       "      <td>1.229764</td>\n",
       "      <td>4</td>\n",
       "    </tr>\n",
       "    <tr>\n",
       "      <th>1</th>\n",
       "      <td>CVX</td>\n",
       "      <td>0.071782</td>\n",
       "      <td>0.042252</td>\n",
       "      <td>1.071533</td>\n",
       "      <td>0</td>\n",
       "    </tr>\n",
       "    <tr>\n",
       "      <th>2</th>\n",
       "      <td>SHEL</td>\n",
       "      <td>0.021782</td>\n",
       "      <td>0.050823</td>\n",
       "      <td>1.037784</td>\n",
       "      <td>6</td>\n",
       "    </tr>\n",
       "    <tr>\n",
       "      <th>3</th>\n",
       "      <td>XOM</td>\n",
       "      <td>0.054754</td>\n",
       "      <td>0.030664</td>\n",
       "      <td>0.939941</td>\n",
       "      <td>2</td>\n",
       "    </tr>\n",
       "    <tr>\n",
       "      <th>4</th>\n",
       "      <td>CDE</td>\n",
       "      <td>-0.002884</td>\n",
       "      <td>0.406178</td>\n",
       "      <td>1.081356</td>\n",
       "      <td>0</td>\n",
       "    </tr>\n",
       "    <tr>\n",
       "      <th>5</th>\n",
       "      <td>HL</td>\n",
       "      <td>0.141216</td>\n",
       "      <td>0.307043</td>\n",
       "      <td>0.961650</td>\n",
       "      <td>2</td>\n",
       "    </tr>\n",
       "    <tr>\n",
       "      <th>6</th>\n",
       "      <td>NEM</td>\n",
       "      <td>-0.021780</td>\n",
       "      <td>0.163213</td>\n",
       "      <td>0.508015</td>\n",
       "      <td>3</td>\n",
       "    </tr>\n",
       "    <tr>\n",
       "      <th>7</th>\n",
       "      <td>RGLD</td>\n",
       "      <td>0.089522</td>\n",
       "      <td>0.188381</td>\n",
       "      <td>0.531687</td>\n",
       "      <td>3</td>\n",
       "    </tr>\n",
       "    <tr>\n",
       "      <th>8</th>\n",
       "      <td>CVS</td>\n",
       "      <td>0.160351</td>\n",
       "      <td>0.032281</td>\n",
       "      <td>0.786785</td>\n",
       "      <td>5</td>\n",
       "    </tr>\n",
       "    <tr>\n",
       "      <th>9</th>\n",
       "      <td>ELV</td>\n",
       "      <td>0.198703</td>\n",
       "      <td>0.058139</td>\n",
       "      <td>0.907745</td>\n",
       "      <td>2</td>\n",
       "    </tr>\n",
       "    <tr>\n",
       "      <th>10</th>\n",
       "      <td>HCA</td>\n",
       "      <td>0.333212</td>\n",
       "      <td>0.084755</td>\n",
       "      <td>0.932622</td>\n",
       "      <td>2</td>\n",
       "    </tr>\n",
       "    <tr>\n",
       "      <th>11</th>\n",
       "      <td>UNH</td>\n",
       "      <td>0.265784</td>\n",
       "      <td>0.044584</td>\n",
       "      <td>0.896916</td>\n",
       "      <td>2</td>\n",
       "    </tr>\n",
       "    <tr>\n",
       "      <th>12</th>\n",
       "      <td>AAPL</td>\n",
       "      <td>0.188954</td>\n",
       "      <td>0.068087</td>\n",
       "      <td>1.015140</td>\n",
       "      <td>6</td>\n",
       "    </tr>\n",
       "    <tr>\n",
       "      <th>13</th>\n",
       "      <td>AMZN</td>\n",
       "      <td>0.334733</td>\n",
       "      <td>0.095812</td>\n",
       "      <td>1.189581</td>\n",
       "      <td>4</td>\n",
       "    </tr>\n",
       "    <tr>\n",
       "      <th>14</th>\n",
       "      <td>GOOG</td>\n",
       "      <td>0.196299</td>\n",
       "      <td>0.054359</td>\n",
       "      <td>1.020132</td>\n",
       "      <td>6</td>\n",
       "    </tr>\n",
       "    <tr>\n",
       "      <th>15</th>\n",
       "      <td>MSFT</td>\n",
       "      <td>0.223789</td>\n",
       "      <td>0.054272</td>\n",
       "      <td>1.118661</td>\n",
       "      <td>0</td>\n",
       "    </tr>\n",
       "    <tr>\n",
       "      <th>16</th>\n",
       "      <td>D</td>\n",
       "      <td>0.125428</td>\n",
       "      <td>0.023711</td>\n",
       "      <td>0.540739</td>\n",
       "      <td>3</td>\n",
       "    </tr>\n",
       "    <tr>\n",
       "      <th>17</th>\n",
       "      <td>DUK</td>\n",
       "      <td>0.091736</td>\n",
       "      <td>0.023503</td>\n",
       "      <td>0.439980</td>\n",
       "      <td>1</td>\n",
       "    </tr>\n",
       "    <tr>\n",
       "      <th>18</th>\n",
       "      <td>NEE</td>\n",
       "      <td>0.186661</td>\n",
       "      <td>0.025655</td>\n",
       "      <td>0.562953</td>\n",
       "      <td>3</td>\n",
       "    </tr>\n",
       "    <tr>\n",
       "      <th>19</th>\n",
       "      <td>SO</td>\n",
       "      <td>0.073070</td>\n",
       "      <td>0.019811</td>\n",
       "      <td>0.385934</td>\n",
       "      <td>1</td>\n",
       "    </tr>\n",
       "  </tbody>\n",
       "</table>\n",
       "</div>"
      ],
      "text/plain": [
       "   Ticker  Annual Returns  Annual Variances     Betas  Group\n",
       "0     COP        0.053882          0.076181  1.229764      4\n",
       "1     CVX        0.071782          0.042252  1.071533      0\n",
       "2    SHEL        0.021782          0.050823  1.037784      6\n",
       "3     XOM        0.054754          0.030664  0.939941      2\n",
       "4     CDE       -0.002884          0.406178  1.081356      0\n",
       "5      HL        0.141216          0.307043  0.961650      2\n",
       "6     NEM       -0.021780          0.163213  0.508015      3\n",
       "7    RGLD        0.089522          0.188381  0.531687      3\n",
       "8     CVS        0.160351          0.032281  0.786785      5\n",
       "9     ELV        0.198703          0.058139  0.907745      2\n",
       "10    HCA        0.333212          0.084755  0.932622      2\n",
       "11    UNH        0.265784          0.044584  0.896916      2\n",
       "12   AAPL        0.188954          0.068087  1.015140      6\n",
       "13   AMZN        0.334733          0.095812  1.189581      4\n",
       "14   GOOG        0.196299          0.054359  1.020132      6\n",
       "15   MSFT        0.223789          0.054272  1.118661      0\n",
       "16      D        0.125428          0.023711  0.540739      3\n",
       "17    DUK        0.091736          0.023503  0.439980      1\n",
       "18    NEE        0.186661          0.025655  0.562953      3\n",
       "19     SO        0.073070          0.019811  0.385934      1"
      ]
     },
     "execution_count": 12,
     "metadata": {},
     "output_type": "execute_result"
    }
   ],
   "source": [
    "TRAINING_df2"
   ]
  },
  {
   "cell_type": "code",
   "execution_count": 13,
   "metadata": {},
   "outputs": [
    {
     "data": {
      "text/plain": [
       "{4: {'AMZN', 'COP'},\n",
       " 0: {'CDE', 'CVX', 'MSFT'},\n",
       " 6: {'AAPL', 'GOOG', 'SHEL'},\n",
       " 2: {'ELV', 'HCA', 'HL', 'UNH', 'XOM'},\n",
       " 3: {'D', 'NEE', 'NEM', 'RGLD'},\n",
       " 5: {'CVS'},\n",
       " 1: {'DUK', 'SO'}}"
      ]
     },
     "execution_count": 13,
     "metadata": {},
     "output_type": "execute_result"
    }
   ],
   "source": [
    "cluster_dict = {}\n",
    "for i in TRAINING_df2.index:\n",
    "    cluster_label = TRAINING_df2['Group'][i]\n",
    "    ticker = TRAINING_df2['Ticker'][i]\n",
    "    if cluster_label not in cluster_dict:\n",
    "        cluster_dict[cluster_label] = set([ticker])\n",
    "    else:\n",
    "        cluster_dict[cluster_label].add(ticker)\n",
    "\n",
    "cluster_dict"
   ]
  },
  {
   "cell_type": "code",
   "execution_count": 14,
   "metadata": {},
   "outputs": [
    {
     "data": {
      "text/plain": [
       "720"
      ]
     },
     "execution_count": 14,
     "metadata": {},
     "output_type": "execute_result"
    }
   ],
   "source": [
    "# Create all possible combinations of a portfolio of 8 stocks and select the portolfios that include exactly one stock from each cluster\n",
    "\n",
    "from itertools import combinations\n",
    "\n",
    "all_tickers = list(TRAINING_df2['Ticker'])\n",
    "\n",
    "combs = list(combinations(all_tickers, 7))\n",
    "\n",
    "#Store only combinations that has exactly one stock per sector in portfolio\n",
    "portfolios = []\n",
    "\n",
    "#It is crucial to use set operations to reduce runtime!!\n",
    "for comb in combs:\n",
    "    \n",
    "    comb_set = set(comb)\n",
    "    \n",
    "    cluster_count = 0\n",
    "    \n",
    "    for cluster in cluster_dict:\n",
    "        \n",
    "        if len(set.intersection(comb_set, cluster_dict[cluster])) == 1:\n",
    "            cluster_count += 1\n",
    "        else:\n",
    "            break\n",
    "    \n",
    "    if cluster_count == 7:\n",
    "        portfolios.append(list(comb))\n",
    "\n",
    "\n",
    "# It is very time consuming to check if every valid portfolio combinations is in our list of \n",
    "# portfolios. A great work around for this is to check a couple of values at random indexes in the \n",
    "# list and confirm it meets our criteria. Then, check the length of the list of portfolios and make\n",
    "# sure it matches up with the amount of portfolios expected \n",
    "len(portfolios)"
   ]
  },
  {
   "cell_type": "code",
   "execution_count": 15,
   "metadata": {},
   "outputs": [
    {
     "data": {
      "text/plain": [
       "[['COP', 'CVX', 'SHEL', 'XOM', 'NEM', 'CVS', 'DUK'],\n",
       " ['COP', 'CVX', 'SHEL', 'XOM', 'NEM', 'CVS', 'SO'],\n",
       " ['COP', 'CVX', 'SHEL', 'XOM', 'RGLD', 'CVS', 'DUK'],\n",
       " ['COP', 'CVX', 'SHEL', 'XOM', 'RGLD', 'CVS', 'SO'],\n",
       " ['COP', 'CVX', 'SHEL', 'XOM', 'CVS', 'D', 'DUK'],\n",
       " ['COP', 'CVX', 'SHEL', 'XOM', 'CVS', 'D', 'SO'],\n",
       " ['COP', 'CVX', 'SHEL', 'XOM', 'CVS', 'DUK', 'NEE'],\n",
       " ['COP', 'CVX', 'SHEL', 'XOM', 'CVS', 'NEE', 'SO'],\n",
       " ['COP', 'CVX', 'SHEL', 'HL', 'NEM', 'CVS', 'DUK'],\n",
       " ['COP', 'CVX', 'SHEL', 'HL', 'NEM', 'CVS', 'SO']]"
      ]
     },
     "execution_count": 15,
     "metadata": {},
     "output_type": "execute_result"
    }
   ],
   "source": [
    "portfolios[:10]"
   ]
  },
  {
   "cell_type": "code",
   "execution_count": 16,
   "metadata": {},
   "outputs": [],
   "source": [
    "# Expected return and volatility for random portfolio weights\n",
    "from pylab import mpl, plt\n",
    "\n",
    "def port_ret(weights, portfolio_df):\n",
    "    port_rets = np.log(portfolio_df/portfolio_df.shift(1))\n",
    "    return np.sum(port_rets.mean() * weights) * 252\n",
    "\n",
    "def port_vol(weights, portfolio_df):\n",
    "    port_rets = np.log(portfolio_df/portfolio_df.shift(1))\n",
    "    return np.sqrt(np.dot(weights.T, np.dot(port_rets.cov() * 252, weights)))"
   ]
  },
  {
   "cell_type": "code",
   "execution_count": 17,
   "metadata": {},
   "outputs": [
    {
     "data": {
      "text/plain": [
       "array([0.14285714, 0.14285714, 0.14285714, 0.14285714, 0.14285714,\n",
       "       0.14285714, 0.14285714])"
      ]
     },
     "execution_count": 17,
     "metadata": {},
     "output_type": "execute_result"
    }
   ],
   "source": [
    "# Optimal portfolio\n",
    "import scipy.optimize as sco\n",
    "\n",
    "noa = 7\n",
    "\n",
    "def min_func_sharpe(weights, portfolio_df):\n",
    " return -port_ret(weights, portfolio_df) / port_vol(weights, portfolio_df)\n",
    "\n",
    "# Equality constraint\n",
    "cons = ({'type': 'eq', 'fun': lambda x: np.sum(x) - 1})\n",
    "\n",
    "# Bounds for the parameters\n",
    "bnds = tuple((0, 1) for x in range(noa))\n",
    "\n",
    "# Starting parameter list\n",
    "# Equal weights vector\n",
    "eweights = np.array(noa * [1. / noa,])\n",
    "eweights"
   ]
  },
  {
   "cell_type": "code",
   "execution_count": 18,
   "metadata": {},
   "outputs": [],
   "source": [
    "# Optimal portfolio by maximizing the Sharpe Ratio\n",
    "# Solve for the optimal weights with the maximum sharpe ratio\n",
    "\n",
    "train_port_sharpe_ratios = {}\n",
    "\n",
    "for comb in portfolios:\n",
    "    portfolio_df = TRAINING_df[comb]\n",
    "    opts = sco.minimize(min_func_sharpe, eweights, args=(portfolio_df), method = 'SLSQP', bounds = bnds, constraints = cons)\n",
    "    \n",
    "    sharpe_ratio = -opts['fun']\n",
    "    \n",
    "    train_port_sharpe_ratios[tuple(comb)] = sharpe_ratio"
   ]
  },
  {
   "cell_type": "code",
   "execution_count": 19,
   "metadata": {},
   "outputs": [],
   "source": [
    "#Let's find the top 5 portfolios based on the sharpe ratio based on the training data\n",
    "\n",
    "train_top_5_SR = sorted(train_port_sharpe_ratios.values(), reverse= True)[:5]"
   ]
  },
  {
   "cell_type": "code",
   "execution_count": 20,
   "metadata": {},
   "outputs": [],
   "source": [
    "train_top_5_portfolios = []\n",
    "\n",
    "for i in range(0,5):\n",
    "    train_top_5_portfolios.append(tuple(list(train_port_sharpe_ratios.keys())[list(train_port_sharpe_ratios.values()).\n",
    "                                                                              index(train_top_5_SR[i])]))"
   ]
  },
  {
   "cell_type": "code",
   "execution_count": 21,
   "metadata": {},
   "outputs": [
    {
     "name": "stdout",
     "output_type": "stream",
     "text": [
      "('CVS', 'UNH', 'AAPL', 'AMZN', 'MSFT', 'NEE', 'SO') : 1.549573913288882\n",
      "('CVS', 'UNH', 'AAPL', 'AMZN', 'MSFT', 'DUK', 'NEE') : 1.549573618770525\n",
      "('CVS', 'UNH', 'AMZN', 'GOOG', 'MSFT', 'NEE', 'SO') : 1.5469583256601187\n",
      "('SHEL', 'CVS', 'UNH', 'AMZN', 'MSFT', 'NEE', 'SO') : 1.5469582844458225\n",
      "('CVS', 'UNH', 'AMZN', 'GOOG', 'MSFT', 'DUK', 'NEE') : 1.5469580824006828\n"
     ]
    }
   ],
   "source": [
    "for portfolio in train_top_5_portfolios:\n",
    "    sharpe_ratio = train_port_sharpe_ratios[portfolio]\n",
    "    print(str(portfolio) + \" : \" + str(sharpe_ratio))"
   ]
  },
  {
   "cell_type": "code",
   "execution_count": 22,
   "metadata": {},
   "outputs": [],
   "source": [
    "train_port_weight_dict = {}\n",
    "\n",
    "\n",
    "for portfolio in train_top_5_portfolios:\n",
    "\n",
    "    portfolio_df = TRAINING_df[list(portfolio)]\n",
    "\n",
    "    opts = sco.minimize(min_func_sharpe, eweights, args=(portfolio_df), method = 'SLSQP', bounds = bnds, constraints = cons)\n",
    "\n",
    "    weights = opts['x']\n",
    "    \n",
    "    train_port_weight_dict[tuple(portfolio)] = weights"
   ]
  },
  {
   "cell_type": "code",
   "execution_count": 23,
   "metadata": {},
   "outputs": [
    {
     "data": {
      "text/plain": [
       "([<matplotlib.patches.Wedge at 0x7ff291a79be0>,\n",
       "  <matplotlib.patches.Wedge at 0x7ff291a09160>,\n",
       "  <matplotlib.patches.Wedge at 0x7ff291a09668>,\n",
       "  <matplotlib.patches.Wedge at 0x7ff291a09b70>,\n",
       "  <matplotlib.patches.Wedge at 0x7ff291a120b8>,\n",
       "  <matplotlib.patches.Wedge at 0x7ff291a125c0>,\n",
       "  <matplotlib.patches.Wedge at 0x7ff291a12ac8>],\n",
       " [Text(1.0924450463634463, 0.12870050767564117, 'CVS'),\n",
       "  Text(0.38223080079808097, 1.0314550959306266, 'UNH'),\n",
       "  Text(-0.7338225066007555, 0.8194537990675156, 'AAPL'),\n",
       "  Text(-1.0625711732406555, 0.2845039574381649, 'AMZN'),\n",
       "  Text(-1.0019310192954434, -0.4540200794828288, 'MSFT'),\n",
       "  Text(0.3447307073041182, -1.0445863963510162, 'NEE'),\n",
       "  Text(1.0999999999999954, -1.0298943298478347e-07, 'SO')])"
      ]
     },
     "execution_count": 23,
     "metadata": {},
     "output_type": "execute_result"
    },
    {
     "data": {
      "image/png": "[encoded data removed]",
      "text/plain": [
       "<Figure size 432x288 with 1 Axes>"
      ]
     },
     "metadata": {},
     "output_type": "display_data"
    }
   ],
   "source": [
    "#Let's take a look at the distribution of the portfolio with the highest sharpe ratio in the training dataset\n",
    "plt.pie(train_port_weight_dict[train_top_5_portfolios[0]], labels = train_top_5_portfolios[0])"
   ]
  },
  {
   "cell_type": "code",
   "execution_count": 24,
   "metadata": {},
   "outputs": [
    {
     "data": {
      "text/plain": [
       "Text(0, 0.5, 'values')"
      ]
     },
     "execution_count": 24,
     "metadata": {},
     "output_type": "execute_result"
    },
    {
     "data": {
      "image/png": "[encoded data removed]",
      "text/plain": [
       "<Figure size 432x288 with 1 Axes>"
      ]
     },
     "metadata": {
      "needs_background": "light"
     },
     "output_type": "display_data"
    }
   ],
   "source": [
    "plt.bar(list(train_top_5_portfolios[0]), train_port_weight_dict[train_top_5_portfolios[0]])\n",
    "plt.title('Asset Allocation of Portfolio #1')\n",
    "plt.xlabel(\"Stocks\")\n",
    "plt.ylabel('values')"
   ]
  },
  {
   "cell_type": "code",
   "execution_count": 25,
   "metadata": {},
   "outputs": [
    {
     "data": {
      "text/plain": [
       "([<matplotlib.patches.Wedge at 0x7ff2919bdf60>,\n",
       "  <matplotlib.patches.Wedge at 0x7ff2919484e0>,\n",
       "  <matplotlib.patches.Wedge at 0x7ff2919489e8>,\n",
       "  <matplotlib.patches.Wedge at 0x7ff291948ef0>,\n",
       "  <matplotlib.patches.Wedge at 0x7ff291953438>,\n",
       "  <matplotlib.patches.Wedge at 0x7ff291953940>,\n",
       "  <matplotlib.patches.Wedge at 0x7ff291953e48>],\n",
       " [Text(1.0923749419138924, 0.12929418501471956, 'CVS'),\n",
       "  Text(0.3818217892069207, 1.0316065729176147, 'UNH'),\n",
       "  Text(-0.7335540525172217, 0.8196941210204948, 'AAPL'),\n",
       "  Text(-1.062270006325416, 0.2856263882441551, 'AMZN'),\n",
       "  Text(-1.002642650315341, -0.45244636783670744, 'MSFT'),\n",
       "  Text(-0.8848367850447902, -0.6535012347590476, 'DUK'),\n",
       "  Text(0.3440054281163404, -1.0448254712757024, 'NEE')])"
      ]
     },
     "execution_count": 25,
     "metadata": {},
     "output_type": "execute_result"
    },
    {
     "data": {
      "image/png": "[encoded data removed]",
      "text/plain": [
       "<Figure size 432x288 with 1 Axes>"
      ]
     },
     "metadata": {},
     "output_type": "display_data"
    }
   ],
   "source": [
    "plt.pie(train_port_weight_dict[train_top_5_portfolios[1]], labels = train_top_5_portfolios[1])"
   ]
  },
  {
   "cell_type": "code",
   "execution_count": 26,
   "metadata": {},
   "outputs": [
    {
     "data": {
      "text/plain": [
       "Text(0, 0.5, 'values')"
      ]
     },
     "execution_count": 26,
     "metadata": {},
     "output_type": "execute_result"
    },
    {
     "data": {
      "image/png": "[encoded data removed]",
      "text/plain": [
       "<Figure size 432x288 with 1 Axes>"
      ]
     },
     "metadata": {
      "needs_background": "light"
     },
     "output_type": "display_data"
    }
   ],
   "source": [
    "plt.bar(list(train_top_5_portfolios[1]), train_port_weight_dict[train_top_5_portfolios[1]])\n",
    "plt.title('Asset Allocation of Portfolio #2')\n",
    "plt.xlabel(\"Stocks\")\n",
    "plt.ylabel('values')"
   ]
  },
  {
   "cell_type": "code",
   "execution_count": 27,
   "metadata": {},
   "outputs": [
    {
     "data": {
      "text/plain": [
       "([<matplotlib.patches.Wedge at 0x7ff2918857f0>,\n",
       "  <matplotlib.patches.Wedge at 0x7ff291885d30>,\n",
       "  <matplotlib.patches.Wedge at 0x7ff291890278>,\n",
       "  <matplotlib.patches.Wedge at 0x7ff291890780>,\n",
       "  <matplotlib.patches.Wedge at 0x7ff291890c88>,\n",
       "  <matplotlib.patches.Wedge at 0x7ff29189a1d0>,\n",
       "  <matplotlib.patches.Wedge at 0x7ff29189a6d8>],\n",
       " [Text(1.0906780503193585, 0.14290343086001503, 'CVS'),\n",
       "  Text(0.3236617440901387, 1.0513054149068812, 'UNH'),\n",
       "  Text(-1.0267801699745027, 0.3946168807174011, 'AMZN'),\n",
       "  Text(-1.091549128414389, -0.13609004466818145, 'GOOG'),\n",
       "  Text(-1.0278467558945792, -0.39183037962489514, 'MSFT'),\n",
       "  Text(0.3273730011451989, -1.0501556637571337, 'NEE'),\n",
       "  Text(1.0999999999999892, 1.5448414929211732e-07, 'SO')])"
      ]
     },
     "execution_count": 27,
     "metadata": {},
     "output_type": "execute_result"
    },
    {
     "data": {
      "image/png": "[encoded data removed]",
      "text/plain": [
       "<Figure size 432x288 with 1 Axes>"
      ]
     },
     "metadata": {},
     "output_type": "display_data"
    }
   ],
   "source": [
    "plt.pie(train_port_weight_dict[train_top_5_portfolios[2]], labels = train_top_5_portfolios[2])"
   ]
  },
  {
   "cell_type": "code",
   "execution_count": 28,
   "metadata": {},
   "outputs": [
    {
     "data": {
      "text/plain": [
       "Text(0, 0.5, 'values')"
      ]
     },
     "execution_count": 28,
     "metadata": {},
     "output_type": "execute_result"
    },
    {
     "data": {
      "image/png": "[encoded data removed]",
      "text/plain": [
       "<Figure size 432x288 with 1 Axes>"
      ]
     },
     "metadata": {
      "needs_background": "light"
     },
     "output_type": "display_data"
    }
   ],
   "source": [
    "plt.bar(list(train_top_5_portfolios[2]), train_port_weight_dict[train_top_5_portfolios[2]])\n",
    "plt.title('Asset Allocation of Portfolio #3')\n",
    "plt.xlabel(\"Stocks\")\n",
    "plt.ylabel('values')"
   ]
  },
  {
   "cell_type": "code",
   "execution_count": 29,
   "metadata": {},
   "outputs": [
    {
     "data": {
      "text/plain": [
       "([<matplotlib.patches.Wedge at 0x7ff2917c1b38>,\n",
       "  <matplotlib.patches.Wedge at 0x7ff2917cf0b8>,\n",
       "  <matplotlib.patches.Wedge at 0x7ff2917cf5c0>,\n",
       "  <matplotlib.patches.Wedge at 0x7ff2917cfac8>,\n",
       "  <matplotlib.patches.Wedge at 0x7ff2917cffd0>,\n",
       "  <matplotlib.patches.Wedge at 0x7ff2917db518>,\n",
       "  <matplotlib.patches.Wedge at 0x7ff2917dba20>],\n",
       " [Text(1.0906780503193585, 0.14290343086001503, 'SHEL'),\n",
       "  Text(0.3236617440901387, 1.0513054149068812, 'CVS'),\n",
       "  Text(-1.0267801699745027, 0.3946168807174011, 'UNH'),\n",
       "  Text(-1.091549128414389, -0.13609004466818145, 'AMZN'),\n",
       "  Text(-1.0278467558945792, -0.39183037962489514, 'MSFT'),\n",
       "  Text(0.3273730011451989, -1.0501556637571337, 'NEE'),\n",
       "  Text(1.0999999999999892, 1.5448414929211732e-07, 'SO')])"
      ]
     },
     "execution_count": 29,
     "metadata": {},
     "output_type": "execute_result"
    },
    {
     "data": {
      "image/png": "[encoded data removed]",
      "text/plain": [
       "<Figure size 432x288 with 1 Axes>"
      ]
     },
     "metadata": {},
     "output_type": "display_data"
    }
   ],
   "source": [
    "plt.pie(train_port_weight_dict[train_top_5_portfolios[2]], labels = train_top_5_portfolios[3])"
   ]
  },
  {
   "cell_type": "code",
   "execution_count": 30,
   "metadata": {},
   "outputs": [
    {
     "data": {
      "text/plain": [
       "Text(0, 0.5, 'values')"
      ]
     },
     "execution_count": 30,
     "metadata": {},
     "output_type": "execute_result"
    },
    {
     "data": {
      "image/png": "[encoded data removed]",
      "text/plain": [
       "<Figure size 432x288 with 1 Axes>"
      ]
     },
     "metadata": {
      "needs_background": "light"
     },
     "output_type": "display_data"
    }
   ],
   "source": [
    "plt.bar(list(train_top_5_portfolios[3]), train_port_weight_dict[train_top_5_portfolios[3]])\n",
    "plt.title('Asset Allocation of Portfolio #4')\n",
    "plt.xlabel(\"Stocks\")\n",
    "plt.ylabel('values')"
   ]
  },
  {
   "cell_type": "code",
   "execution_count": 31,
   "metadata": {},
   "outputs": [
    {
     "data": {
      "text/plain": [
       "([<matplotlib.patches.Wedge at 0x7ff29170efd0>,\n",
       "  <matplotlib.patches.Wedge at 0x7ff29171c4a8>,\n",
       "  <matplotlib.patches.Wedge at 0x7ff29171c9b0>,\n",
       "  <matplotlib.patches.Wedge at 0x7ff29171ceb8>,\n",
       "  <matplotlib.patches.Wedge at 0x7ff291726400>,\n",
       "  <matplotlib.patches.Wedge at 0x7ff291726908>,\n",
       "  <matplotlib.patches.Wedge at 0x7ff291726e10>],\n",
       " [Text(1.0906780503193585, 0.14290343086001503, 'CVS'),\n",
       "  Text(0.3236617440901387, 1.0513054149068812, 'UNH'),\n",
       "  Text(-1.0267801699745027, 0.3946168807174011, 'AMZN'),\n",
       "  Text(-1.091549128414389, -0.13609004466818145, 'GOOG'),\n",
       "  Text(-1.0278467558945792, -0.39183037962489514, 'MSFT'),\n",
       "  Text(0.3273730011451989, -1.0501556637571337, 'DUK'),\n",
       "  Text(1.0999999999999892, 1.5448414929211732e-07, 'NEE')])"
      ]
     },
     "execution_count": 31,
     "metadata": {},
     "output_type": "execute_result"
    },
    {
     "data": {
      "image/png": "[encoded data removed]",
      "text/plain": [
       "<Figure size 432x288 with 1 Axes>"
      ]
     },
     "metadata": {},
     "output_type": "display_data"
    }
   ],
   "source": [
    "plt.pie(train_port_weight_dict[train_top_5_portfolios[2]], labels = train_top_5_portfolios[4])"
   ]
  },
  {
   "cell_type": "code",
   "execution_count": 32,
   "metadata": {},
   "outputs": [
    {
     "data": {
      "text/plain": [
       "Text(0, 0.5, 'values')"
      ]
     },
     "execution_count": 32,
     "metadata": {},
     "output_type": "execute_result"
    },
    {
     "data": {
      "image/png": "[encoded data removed]",
      "text/plain": [
       "<Figure size 432x288 with 1 Axes>"
      ]
     },
     "metadata": {
      "needs_background": "light"
     },
     "output_type": "display_data"
    }
   ],
   "source": [
    "plt.bar(list(train_top_5_portfolios[4]), train_port_weight_dict[train_top_5_portfolios[4]])\n",
    "plt.title('Asset Allocation of Portfolio #5')\n",
    "plt.xlabel(\"Stocks\")\n",
    "plt.ylabel('values')"
   ]
  },
  {
   "cell_type": "code",
   "execution_count": 33,
   "metadata": {},
   "outputs": [],
   "source": [
    "#Since all the portfolio's are very similar let's focus on the one with the highest sharpe ratio and see how it's distributed\n",
    "\n",
    "top_port = train_top_5_portfolios[0]"
   ]
  },
  {
   "cell_type": "code",
   "execution_count": 34,
   "metadata": {},
   "outputs": [
    {
     "name": "stdout",
     "output_type": "stream",
     "text": [
      "Portfolio Returns: 0.21248279285555638\n",
      "Portfolio Volatility: 0.13712336729041458\n"
     ]
    }
   ],
   "source": [
    "weights = train_port_weight_dict[top_port]\n",
    "portfolio_df = TRAINING_df[list(top_port)]\n",
    "TRAINING_port_ret = port_ret(weights, portfolio_df)\n",
    "TRAINING_port_vol = port_vol(weights, portfolio_df)\n",
    "print(\"Portfolio Returns: \" + str(TRAINING_port_ret))\n",
    "print(\"Portfolio Volatility: \" + str(TRAINING_port_vol))"
   ]
  },
  {
   "cell_type": "code",
   "execution_count": 35,
   "metadata": {},
   "outputs": [
    {
     "data": {
      "image/png": "[encoded data removed]",
      "text/plain": [
       "<Figure size 720x576 with 9 Axes>"
      ]
     },
     "metadata": {
      "needs_background": "light"
     },
     "output_type": "display_data"
    }
   ],
   "source": [
    "port_rets = daily_returns[list(top_port)]\n",
    "port_rets.hist(bins = 40, figsize = (10, 8));"
   ]
  },
  {
   "cell_type": "code",
   "execution_count": 36,
   "metadata": {},
   "outputs": [
    {
     "data": {
      "image/png": "[encoded data removed]",
      "text/plain": [
       "<Figure size 720x432 with 2 Axes>"
      ]
     },
     "metadata": {
      "needs_background": "light"
     },
     "output_type": "display_data"
    }
   ],
   "source": [
    "#Lets take a closer look at the portfolio with the highest possible sharpe ratio using Monte Carlo Simulation\n",
    "\n",
    "def monte_carlo_sim(portfolio):\n",
    "    \n",
    "    prets = []\n",
    "    pvols = []\n",
    "    \n",
    "    portfolio_df = TRAINING_df[list(portfolio)]\n",
    "\n",
    "    # Monte Carlo simulation of portfolio weights\n",
    "    for p in range (2500):\n",
    "        weights = np.random.random(noa)\n",
    "        weights /= np.sum(weights)\n",
    "        # Collect the resulting returns and volatility in list objects\n",
    "        prets.append(port_ret(weights, portfolio_df))\n",
    "        pvols.append(port_vol(weights, portfolio_df))\n",
    "\n",
    "    prets = np.array(prets)\n",
    "    pvols = np.array(pvols)\n",
    "\n",
    "    plt.figure(figsize = (10,6))\n",
    "    plt.scatter(pvols, prets, c = prets/pvols, marker = 'o', cmap = 'coolwarm')\n",
    "    plt.xlabel('expected volatility')\n",
    "    plt.ylabel('expected return')\n",
    "    plt.colorbar(label = 'Sharpe ratio');\n",
    "\n",
    "\n",
    "monte_carlo_sim(top_port)"
   ]
  },
  {
   "cell_type": "markdown",
   "metadata": {},
   "source": [
    "### Now let's see how the portfolios with highest sharpe ratios performed in the PRE-COVID testing dataset"
   ]
  },
  {
   "cell_type": "code",
   "execution_count": 37,
   "metadata": {},
   "outputs": [
    {
     "data": {
      "text/html": [
       "<div>\n",
       "<style scoped>\n",
       "    .dataframe tbody tr th:only-of-type {\n",
       "        vertical-align: middle;\n",
       "    }\n",
       "\n",
       "    .dataframe tbody tr th {\n",
       "        vertical-align: top;\n",
       "    }\n",
       "\n",
       "    .dataframe thead th {\n",
       "        text-align: right;\n",
       "    }\n",
       "</style>\n",
       "<table border=\"1\" class=\"dataframe\">\n",
       "  <thead>\n",
       "    <tr style=\"text-align: right;\">\n",
       "      <th></th>\n",
       "      <th>COP</th>\n",
       "      <th>CVX</th>\n",
       "      <th>SHEL</th>\n",
       "      <th>XOM</th>\n",
       "      <th>CDE</th>\n",
       "      <th>HL</th>\n",
       "      <th>NEM</th>\n",
       "      <th>RGLD</th>\n",
       "      <th>CVS</th>\n",
       "      <th>ELV</th>\n",
       "      <th>HCA</th>\n",
       "      <th>UNH</th>\n",
       "      <th>AAPL</th>\n",
       "      <th>AMZN</th>\n",
       "      <th>GOOG</th>\n",
       "      <th>MSFT</th>\n",
       "      <th>D</th>\n",
       "      <th>DUK</th>\n",
       "      <th>NEE</th>\n",
       "      <th>SO</th>\n",
       "    </tr>\n",
       "    <tr>\n",
       "      <th>Date</th>\n",
       "      <th></th>\n",
       "      <th></th>\n",
       "      <th></th>\n",
       "      <th></th>\n",
       "      <th></th>\n",
       "      <th></th>\n",
       "      <th></th>\n",
       "      <th></th>\n",
       "      <th></th>\n",
       "      <th></th>\n",
       "      <th></th>\n",
       "      <th></th>\n",
       "      <th></th>\n",
       "      <th></th>\n",
       "      <th></th>\n",
       "      <th></th>\n",
       "      <th></th>\n",
       "      <th></th>\n",
       "      <th></th>\n",
       "      <th></th>\n",
       "    </tr>\n",
       "  </thead>\n",
       "  <tbody>\n",
       "    <tr>\n",
       "      <th>2017-01-04</th>\n",
       "      <td>0.009287</td>\n",
       "      <td>-0.000254</td>\n",
       "      <td>0.010141</td>\n",
       "      <td>-0.011002</td>\n",
       "      <td>0.018481</td>\n",
       "      <td>0.012727</td>\n",
       "      <td>0.009529</td>\n",
       "      <td>0.008852</td>\n",
       "      <td>-0.007468</td>\n",
       "      <td>-0.001326</td>\n",
       "      <td>0.035858</td>\n",
       "      <td>0.002849</td>\n",
       "      <td>-0.001119</td>\n",
       "      <td>0.004657</td>\n",
       "      <td>0.000967</td>\n",
       "      <td>-0.004474</td>\n",
       "      <td>-0.000918</td>\n",
       "      <td>-0.001029</td>\n",
       "      <td>0.002948</td>\n",
       "      <td>-0.001019</td>\n",
       "    </tr>\n",
       "    <tr>\n",
       "      <th>2017-01-05</th>\n",
       "      <td>-0.002937</td>\n",
       "      <td>-0.004329</td>\n",
       "      <td>0.008785</td>\n",
       "      <td>-0.014907</td>\n",
       "      <td>0.133064</td>\n",
       "      <td>0.046679</td>\n",
       "      <td>0.046053</td>\n",
       "      <td>0.033713</td>\n",
       "      <td>0.020941</td>\n",
       "      <td>0.010626</td>\n",
       "      <td>-0.004149</td>\n",
       "      <td>0.001668</td>\n",
       "      <td>0.005086</td>\n",
       "      <td>0.030732</td>\n",
       "      <td>0.009048</td>\n",
       "      <td>0.000000</td>\n",
       "      <td>0.001313</td>\n",
       "      <td>0.001288</td>\n",
       "      <td>-0.000588</td>\n",
       "      <td>0.003062</td>\n",
       "    </tr>\n",
       "    <tr>\n",
       "      <th>2017-01-06</th>\n",
       "      <td>-0.003731</td>\n",
       "      <td>-0.004006</td>\n",
       "      <td>-0.008530</td>\n",
       "      <td>-0.000565</td>\n",
       "      <td>-0.063167</td>\n",
       "      <td>-0.027444</td>\n",
       "      <td>-0.031447</td>\n",
       "      <td>-0.024423</td>\n",
       "      <td>0.009580</td>\n",
       "      <td>-0.001522</td>\n",
       "      <td>-0.002473</td>\n",
       "      <td>0.001418</td>\n",
       "      <td>0.011148</td>\n",
       "      <td>0.019912</td>\n",
       "      <td>0.015277</td>\n",
       "      <td>0.008668</td>\n",
       "      <td>0.008128</td>\n",
       "      <td>-0.003344</td>\n",
       "      <td>-0.002941</td>\n",
       "      <td>-0.002645</td>\n",
       "    </tr>\n",
       "    <tr>\n",
       "      <th>2017-01-09</th>\n",
       "      <td>-0.021285</td>\n",
       "      <td>-0.008559</td>\n",
       "      <td>-0.021330</td>\n",
       "      <td>-0.016497</td>\n",
       "      <td>0.004748</td>\n",
       "      <td>-0.001764</td>\n",
       "      <td>-0.001694</td>\n",
       "      <td>0.005190</td>\n",
       "      <td>-0.006083</td>\n",
       "      <td>-0.010807</td>\n",
       "      <td>0.030018</td>\n",
       "      <td>-0.002833</td>\n",
       "      <td>0.009159</td>\n",
       "      <td>0.001168</td>\n",
       "      <td>0.000620</td>\n",
       "      <td>-0.003183</td>\n",
       "      <td>-0.015345</td>\n",
       "      <td>-0.010969</td>\n",
       "      <td>-0.002529</td>\n",
       "      <td>-0.009794</td>\n",
       "    </tr>\n",
       "    <tr>\n",
       "      <th>2017-01-10</th>\n",
       "      <td>0.000000</td>\n",
       "      <td>-0.007597</td>\n",
       "      <td>-0.004213</td>\n",
       "      <td>-0.012753</td>\n",
       "      <td>0.036862</td>\n",
       "      <td>0.028269</td>\n",
       "      <td>-0.007919</td>\n",
       "      <td>0.017312</td>\n",
       "      <td>0.011873</td>\n",
       "      <td>0.024862</td>\n",
       "      <td>-0.008236</td>\n",
       "      <td>-0.002284</td>\n",
       "      <td>0.001009</td>\n",
       "      <td>-0.001280</td>\n",
       "      <td>-0.002306</td>\n",
       "      <td>-0.000319</td>\n",
       "      <td>-0.003830</td>\n",
       "      <td>-0.001827</td>\n",
       "      <td>0.001943</td>\n",
       "      <td>-0.003091</td>\n",
       "    </tr>\n",
       "    <tr>\n",
       "      <th>2017-01-11</th>\n",
       "      <td>0.031413</td>\n",
       "      <td>0.008438</td>\n",
       "      <td>0.020232</td>\n",
       "      <td>0.010241</td>\n",
       "      <td>-0.000912</td>\n",
       "      <td>-0.005155</td>\n",
       "      <td>-0.020240</td>\n",
       "      <td>-0.004777</td>\n",
       "      <td>0.001210</td>\n",
       "      <td>-0.003485</td>\n",
       "      <td>0.013287</td>\n",
       "      <td>0.001919</td>\n",
       "      <td>0.005373</td>\n",
       "      <td>0.003920</td>\n",
       "      <td>0.003877</td>\n",
       "      <td>0.009103</td>\n",
       "      <td>0.002651</td>\n",
       "      <td>0.007843</td>\n",
       "      <td>0.007000</td>\n",
       "      <td>0.007441</td>\n",
       "    </tr>\n",
       "    <tr>\n",
       "      <th>2017-01-12</th>\n",
       "      <td>-0.020890</td>\n",
       "      <td>0.001984</td>\n",
       "      <td>0.004327</td>\n",
       "      <td>-0.005414</td>\n",
       "      <td>-0.006387</td>\n",
       "      <td>0.003454</td>\n",
       "      <td>0.002910</td>\n",
       "      <td>-0.001500</td>\n",
       "      <td>-0.002054</td>\n",
       "      <td>0.016183</td>\n",
       "      <td>-0.002396</td>\n",
       "      <td>0.002903</td>\n",
       "      <td>-0.004175</td>\n",
       "      <td>0.018297</td>\n",
       "      <td>-0.001919</td>\n",
       "      <td>-0.009179</td>\n",
       "      <td>-0.004628</td>\n",
       "      <td>0.005707</td>\n",
       "      <td>0.000754</td>\n",
       "      <td>0.005334</td>\n",
       "    </tr>\n",
       "    <tr>\n",
       "      <th>2017-01-13</th>\n",
       "      <td>0.008774</td>\n",
       "      <td>0.001894</td>\n",
       "      <td>-0.004129</td>\n",
       "      <td>0.000116</td>\n",
       "      <td>0.045914</td>\n",
       "      <td>0.027539</td>\n",
       "      <td>0.001740</td>\n",
       "      <td>0.009163</td>\n",
       "      <td>-0.007506</td>\n",
       "      <td>0.002294</td>\n",
       "      <td>0.003539</td>\n",
       "      <td>-0.003449</td>\n",
       "      <td>-0.001761</td>\n",
       "      <td>0.004302</td>\n",
       "      <td>0.001885</td>\n",
       "      <td>0.001438</td>\n",
       "      <td>-0.000930</td>\n",
       "      <td>-0.004256</td>\n",
       "      <td>-0.003765</td>\n",
       "      <td>-0.004082</td>\n",
       "    </tr>\n",
       "    <tr>\n",
       "      <th>2017-01-17</th>\n",
       "      <td>-0.008697</td>\n",
       "      <td>-0.000859</td>\n",
       "      <td>0.001082</td>\n",
       "      <td>0.011697</td>\n",
       "      <td>0.018437</td>\n",
       "      <td>0.020101</td>\n",
       "      <td>0.017666</td>\n",
       "      <td>0.017862</td>\n",
       "      <td>0.023664</td>\n",
       "      <td>-0.011984</td>\n",
       "      <td>0.019270</td>\n",
       "      <td>-0.007046</td>\n",
       "      <td>0.008065</td>\n",
       "      <td>-0.009080</td>\n",
       "      <td>-0.004048</td>\n",
       "      <td>-0.002711</td>\n",
       "      <td>0.013163</td>\n",
       "      <td>0.003238</td>\n",
       "      <td>0.009828</td>\n",
       "      <td>0.018238</td>\n",
       "    </tr>\n",
       "    <tr>\n",
       "      <th>2017-01-18</th>\n",
       "      <td>0.002393</td>\n",
       "      <td>-0.002924</td>\n",
       "      <td>-0.012604</td>\n",
       "      <td>-0.012363</td>\n",
       "      <td>-0.011207</td>\n",
       "      <td>-0.004926</td>\n",
       "      <td>0.003415</td>\n",
       "      <td>-0.003802</td>\n",
       "      <td>-0.004528</td>\n",
       "      <td>0.003202</td>\n",
       "      <td>-0.014828</td>\n",
       "      <td>-0.018175</td>\n",
       "      <td>-0.000083</td>\n",
       "      <td>-0.002766</td>\n",
       "      <td>0.001815</td>\n",
       "      <td>-0.000480</td>\n",
       "      <td>-0.000394</td>\n",
       "      <td>0.000516</td>\n",
       "      <td>-0.001580</td>\n",
       "      <td>-0.001408</td>\n",
       "    </tr>\n",
       "  </tbody>\n",
       "</table>\n",
       "</div>"
      ],
      "text/plain": [
       "                 COP       CVX      SHEL       XOM       CDE        HL  \\\n",
       "Date                                                                     \n",
       "2017-01-04  0.009287 -0.000254  0.010141 -0.011002  0.018481  0.012727   \n",
       "2017-01-05 -0.002937 -0.004329  0.008785 -0.014907  0.133064  0.046679   \n",
       "2017-01-06 -0.003731 -0.004006 -0.008530 -0.000565 -0.063167 -0.027444   \n",
       "2017-01-09 -0.021285 -0.008559 -0.021330 -0.016497  0.004748 -0.001764   \n",
       "2017-01-10  0.000000 -0.007597 -0.004213 -0.012753  0.036862  0.028269   \n",
       "2017-01-11  0.031413  0.008438  0.020232  0.010241 -0.000912 -0.005155   \n",
       "2017-01-12 -0.020890  0.001984  0.004327 -0.005414 -0.006387  0.003454   \n",
       "2017-01-13  0.008774  0.001894 -0.004129  0.000116  0.045914  0.027539   \n",
       "2017-01-17 -0.008697 -0.000859  0.001082  0.011697  0.018437  0.020101   \n",
       "2017-01-18  0.002393 -0.002924 -0.012604 -0.012363 -0.011207 -0.004926   \n",
       "\n",
       "                 NEM      RGLD       CVS       ELV       HCA       UNH  \\\n",
       "Date                                                                     \n",
       "2017-01-04  0.009529  0.008852 -0.007468 -0.001326  0.035858  0.002849   \n",
       "2017-01-05  0.046053  0.033713  0.020941  0.010626 -0.004149  0.001668   \n",
       "2017-01-06 -0.031447 -0.024423  0.009580 -0.001522 -0.002473  0.001418   \n",
       "2017-01-09 -0.001694  0.005190 -0.006083 -0.010807  0.030018 -0.002833   \n",
       "2017-01-10 -0.007919  0.017312  0.011873  0.024862 -0.008236 -0.002284   \n",
       "2017-01-11 -0.020240 -0.004777  0.001210 -0.003485  0.013287  0.001919   \n",
       "2017-01-12  0.002910 -0.001500 -0.002054  0.016183 -0.002396  0.002903   \n",
       "2017-01-13  0.001740  0.009163 -0.007506  0.002294  0.003539 -0.003449   \n",
       "2017-01-17  0.017666  0.017862  0.023664 -0.011984  0.019270 -0.007046   \n",
       "2017-01-18  0.003415 -0.003802 -0.004528  0.003202 -0.014828 -0.018175   \n",
       "\n",
       "                AAPL      AMZN      GOOG      MSFT         D       DUK  \\\n",
       "Date                                                                     \n",
       "2017-01-04 -0.001119  0.004657  0.000967 -0.004474 -0.000918 -0.001029   \n",
       "2017-01-05  0.005086  0.030732  0.009048  0.000000  0.001313  0.001288   \n",
       "2017-01-06  0.011148  0.019912  0.015277  0.008668  0.008128 -0.003344   \n",
       "2017-01-09  0.009159  0.001168  0.000620 -0.003183 -0.015345 -0.010969   \n",
       "2017-01-10  0.001009 -0.001280 -0.002306 -0.000319 -0.003830 -0.001827   \n",
       "2017-01-11  0.005373  0.003920  0.003877  0.009103  0.002651  0.007843   \n",
       "2017-01-12 -0.004175  0.018297 -0.001919 -0.009179 -0.004628  0.005707   \n",
       "2017-01-13 -0.001761  0.004302  0.001885  0.001438 -0.000930 -0.004256   \n",
       "2017-01-17  0.008065 -0.009080 -0.004048 -0.002711  0.013163  0.003238   \n",
       "2017-01-18 -0.000083 -0.002766  0.001815 -0.000480 -0.000394  0.000516   \n",
       "\n",
       "                 NEE        SO  \n",
       "Date                            \n",
       "2017-01-04  0.002948 -0.001019  \n",
       "2017-01-05 -0.000588  0.003062  \n",
       "2017-01-06 -0.002941 -0.002645  \n",
       "2017-01-09 -0.002529 -0.009794  \n",
       "2017-01-10  0.001943 -0.003091  \n",
       "2017-01-11  0.007000  0.007441  \n",
       "2017-01-12  0.000754  0.005334  \n",
       "2017-01-13 -0.003765 -0.004082  \n",
       "2017-01-17  0.009828  0.018238  \n",
       "2017-01-18 -0.001580 -0.001408  "
      ]
     },
     "execution_count": 37,
     "metadata": {},
     "output_type": "execute_result"
    }
   ],
   "source": [
    "#Let's take a quick look at the returns in the PRE-COVID testing dataset\n",
    "\n",
    "PRECOVID_rets = PRECOVID_TESTING_df.pct_change().dropna()\n",
    "PRECOVID_rets.head(10)"
   ]
  },
  {
   "cell_type": "code",
   "execution_count": 38,
   "metadata": {},
   "outputs": [
    {
     "name": "stdout",
     "output_type": "stream",
     "text": [
      "('CVS', 'UNH', 'AAPL', 'AMZN', 'MSFT', 'NEE', 'SO') : 1.927663382902878\n",
      "('CVS', 'UNH', 'AAPL', 'AMZN', 'MSFT', 'DUK', 'NEE') : 1.927857134817072\n",
      "('CVS', 'UNH', 'AMZN', 'GOOG', 'MSFT', 'NEE', 'SO') : 1.8993387983903505\n",
      "('SHEL', 'CVS', 'UNH', 'AMZN', 'MSFT', 'NEE', 'SO') : 1.8995667892847548\n",
      "('CVS', 'UNH', 'AMZN', 'GOOG', 'MSFT', 'DUK', 'NEE') : 1.8989248528103253\n"
     ]
    }
   ],
   "source": [
    "#Now let's take a look at how the top portfolios found using the training dataset performed in the PRE-COVID testing dataset\n",
    "\n",
    "for portfolio in train_top_5_portfolios:\n",
    "    \n",
    "    weights = train_port_weight_dict[portfolio]\n",
    "    portfolio_df = PRECOVID_TESTING_df[list(portfolio)]\n",
    "    sharpe_ratio = -min_func_sharpe(weights, portfolio_df)\n",
    "    \n",
    "    print(str(portfolio) + \" : \" + str(sharpe_ratio))"
   ]
  },
  {
   "cell_type": "code",
   "execution_count": 39,
   "metadata": {},
   "outputs": [
    {
     "name": "stdout",
     "output_type": "stream",
     "text": [
      "Portfolio Returns: 0.2512289234629903\n",
      "Portfolio Volatility: 0.13032821274255021\n"
     ]
    }
   ],
   "source": [
    "#Now let's take a look closer at how the top portfolio in the training dataset performed\n",
    "\n",
    "weights = train_port_weight_dict[top_port]\n",
    "portfolio_df = PRECOVID_TESTING_df[list(top_port)]\n",
    "PRECOVID_port_ret = port_ret(weights, portfolio_df)\n",
    "PRECOVID_port_vol = port_vol(weights, portfolio_df)\n",
    "print(\"Portfolio Returns: \" + str(PRECOVID_port_ret))\n",
    "print(\"Portfolio Volatility: \" + str(PRECOVID_port_vol))"
   ]
  },
  {
   "cell_type": "code",
   "execution_count": 40,
   "metadata": {},
   "outputs": [
    {
     "data": {
      "image/png": "[encoded data removed]",
      "text/plain": [
       "<Figure size 720x576 with 9 Axes>"
      ]
     },
     "metadata": {
      "needs_background": "light"
     },
     "output_type": "display_data"
    }
   ],
   "source": [
    "port_rets = PRECOVID_rets[list(top_port)]\n",
    "port_rets.hist(bins = 40, figsize = (10, 8));"
   ]
  },
  {
   "cell_type": "markdown",
   "metadata": {},
   "source": [
    "### Now let's see how the portfolios with highest sharpe ratios performed in the COVID testing dataset "
   ]
  },
  {
   "cell_type": "code",
   "execution_count": 41,
   "metadata": {},
   "outputs": [
    {
     "data": {
      "text/html": [
       "<div>\n",
       "<style scoped>\n",
       "    .dataframe tbody tr th:only-of-type {\n",
       "        vertical-align: middle;\n",
       "    }\n",
       "\n",
       "    .dataframe tbody tr th {\n",
       "        vertical-align: top;\n",
       "    }\n",
       "\n",
       "    .dataframe thead th {\n",
       "        text-align: right;\n",
       "    }\n",
       "</style>\n",
       "<table border=\"1\" class=\"dataframe\">\n",
       "  <thead>\n",
       "    <tr style=\"text-align: right;\">\n",
       "      <th></th>\n",
       "      <th>COP</th>\n",
       "      <th>CVX</th>\n",
       "      <th>SHEL</th>\n",
       "      <th>XOM</th>\n",
       "      <th>CDE</th>\n",
       "      <th>HL</th>\n",
       "      <th>NEM</th>\n",
       "      <th>RGLD</th>\n",
       "      <th>CVS</th>\n",
       "      <th>ELV</th>\n",
       "      <th>HCA</th>\n",
       "      <th>UNH</th>\n",
       "      <th>AAPL</th>\n",
       "      <th>AMZN</th>\n",
       "      <th>GOOG</th>\n",
       "      <th>MSFT</th>\n",
       "      <th>D</th>\n",
       "      <th>DUK</th>\n",
       "      <th>NEE</th>\n",
       "      <th>SO</th>\n",
       "    </tr>\n",
       "    <tr>\n",
       "      <th>Date</th>\n",
       "      <th></th>\n",
       "      <th></th>\n",
       "      <th></th>\n",
       "      <th></th>\n",
       "      <th></th>\n",
       "      <th></th>\n",
       "      <th></th>\n",
       "      <th></th>\n",
       "      <th></th>\n",
       "      <th></th>\n",
       "      <th></th>\n",
       "      <th></th>\n",
       "      <th></th>\n",
       "      <th></th>\n",
       "      <th></th>\n",
       "      <th></th>\n",
       "      <th></th>\n",
       "      <th></th>\n",
       "      <th></th>\n",
       "      <th></th>\n",
       "    </tr>\n",
       "  </thead>\n",
       "  <tbody>\n",
       "    <tr>\n",
       "      <th>2020-01-03</th>\n",
       "      <td>0.003666</td>\n",
       "      <td>-0.003459</td>\n",
       "      <td>0.007867</td>\n",
       "      <td>-0.008040</td>\n",
       "      <td>-0.014085</td>\n",
       "      <td>-0.020468</td>\n",
       "      <td>-0.009024</td>\n",
       "      <td>-0.008174</td>\n",
       "      <td>-0.007956</td>\n",
       "      <td>-0.013261</td>\n",
       "      <td>0.003051</td>\n",
       "      <td>-0.010120</td>\n",
       "      <td>-0.009722</td>\n",
       "      <td>-0.012139</td>\n",
       "      <td>-0.004907</td>\n",
       "      <td>-0.012452</td>\n",
       "      <td>-0.002440</td>\n",
       "      <td>0.000664</td>\n",
       "      <td>0.007124</td>\n",
       "      <td>-0.000958</td>\n",
       "    </tr>\n",
       "    <tr>\n",
       "      <th>2020-01-06</th>\n",
       "      <td>0.011872</td>\n",
       "      <td>-0.003388</td>\n",
       "      <td>0.012456</td>\n",
       "      <td>0.007678</td>\n",
       "      <td>-0.100000</td>\n",
       "      <td>-0.011940</td>\n",
       "      <td>0.010040</td>\n",
       "      <td>-0.010988</td>\n",
       "      <td>0.003942</td>\n",
       "      <td>0.012025</td>\n",
       "      <td>0.003785</td>\n",
       "      <td>0.006942</td>\n",
       "      <td>0.007969</td>\n",
       "      <td>0.014886</td>\n",
       "      <td>0.024657</td>\n",
       "      <td>0.002585</td>\n",
       "      <td>0.007706</td>\n",
       "      <td>0.004867</td>\n",
       "      <td>0.004993</td>\n",
       "      <td>0.003996</td>\n",
       "    </tr>\n",
       "    <tr>\n",
       "      <th>2020-01-07</th>\n",
       "      <td>0.000000</td>\n",
       "      <td>-0.012770</td>\n",
       "      <td>-0.009186</td>\n",
       "      <td>-0.008184</td>\n",
       "      <td>-0.005772</td>\n",
       "      <td>0.030211</td>\n",
       "      <td>-0.000694</td>\n",
       "      <td>0.011531</td>\n",
       "      <td>-0.003791</td>\n",
       "      <td>-0.003029</td>\n",
       "      <td>-0.001347</td>\n",
       "      <td>-0.006037</td>\n",
       "      <td>-0.004703</td>\n",
       "      <td>0.002092</td>\n",
       "      <td>-0.000624</td>\n",
       "      <td>-0.009118</td>\n",
       "      <td>-0.002185</td>\n",
       "      <td>-0.006275</td>\n",
       "      <td>-0.000870</td>\n",
       "      <td>-0.003025</td>\n",
       "    </tr>\n",
       "    <tr>\n",
       "      <th>2020-01-08</th>\n",
       "      <td>-0.023165</td>\n",
       "      <td>-0.011423</td>\n",
       "      <td>-0.011755</td>\n",
       "      <td>-0.015080</td>\n",
       "      <td>-0.087083</td>\n",
       "      <td>-0.043988</td>\n",
       "      <td>-0.026602</td>\n",
       "      <td>-0.071393</td>\n",
       "      <td>-0.012503</td>\n",
       "      <td>0.026507</td>\n",
       "      <td>0.006608</td>\n",
       "      <td>0.021084</td>\n",
       "      <td>0.016086</td>\n",
       "      <td>-0.007809</td>\n",
       "      <td>0.007880</td>\n",
       "      <td>0.015929</td>\n",
       "      <td>-0.006325</td>\n",
       "      <td>0.001440</td>\n",
       "      <td>-0.000456</td>\n",
       "      <td>-0.000320</td>\n",
       "    </tr>\n",
       "    <tr>\n",
       "      <th>2020-01-09</th>\n",
       "      <td>0.017400</td>\n",
       "      <td>-0.001614</td>\n",
       "      <td>-0.000168</td>\n",
       "      <td>0.007656</td>\n",
       "      <td>0.017488</td>\n",
       "      <td>-0.058282</td>\n",
       "      <td>-0.009981</td>\n",
       "      <td>0.005287</td>\n",
       "      <td>0.002752</td>\n",
       "      <td>-0.003480</td>\n",
       "      <td>-0.012460</td>\n",
       "      <td>-0.005678</td>\n",
       "      <td>0.021241</td>\n",
       "      <td>0.004799</td>\n",
       "      <td>0.011044</td>\n",
       "      <td>0.012493</td>\n",
       "      <td>0.002816</td>\n",
       "      <td>0.002434</td>\n",
       "      <td>0.007836</td>\n",
       "      <td>0.010543</td>\n",
       "    </tr>\n",
       "    <tr>\n",
       "      <th>2020-01-10</th>\n",
       "      <td>-0.009838</td>\n",
       "      <td>-0.009106</td>\n",
       "      <td>-0.011227</td>\n",
       "      <td>-0.008888</td>\n",
       "      <td>0.023438</td>\n",
       "      <td>0.003257</td>\n",
       "      <td>0.014642</td>\n",
       "      <td>0.014262</td>\n",
       "      <td>-0.010294</td>\n",
       "      <td>0.004341</td>\n",
       "      <td>0.004884</td>\n",
       "      <td>0.003093</td>\n",
       "      <td>0.002261</td>\n",
       "      <td>-0.009411</td>\n",
       "      <td>0.006973</td>\n",
       "      <td>-0.004627</td>\n",
       "      <td>0.001831</td>\n",
       "      <td>-0.001986</td>\n",
       "      <td>0.001892</td>\n",
       "      <td>0.006323</td>\n",
       "    </tr>\n",
       "    <tr>\n",
       "      <th>2020-01-13</th>\n",
       "      <td>-0.004433</td>\n",
       "      <td>0.001889</td>\n",
       "      <td>-0.000847</td>\n",
       "      <td>0.009546</td>\n",
       "      <td>-0.018321</td>\n",
       "      <td>-0.009740</td>\n",
       "      <td>0.004258</td>\n",
       "      <td>-0.022937</td>\n",
       "      <td>0.009014</td>\n",
       "      <td>-0.035745</td>\n",
       "      <td>-0.006615</td>\n",
       "      <td>-0.031444</td>\n",
       "      <td>0.021364</td>\n",
       "      <td>0.004323</td>\n",
       "      <td>0.006645</td>\n",
       "      <td>0.012025</td>\n",
       "      <td>-0.000244</td>\n",
       "      <td>0.008845</td>\n",
       "      <td>0.011702</td>\n",
       "      <td>0.013823</td>\n",
       "    </tr>\n",
       "    <tr>\n",
       "      <th>2020-01-14</th>\n",
       "      <td>0.000154</td>\n",
       "      <td>-0.003086</td>\n",
       "      <td>-0.000678</td>\n",
       "      <td>-0.008596</td>\n",
       "      <td>0.024883</td>\n",
       "      <td>0.029508</td>\n",
       "      <td>0.008952</td>\n",
       "      <td>0.010703</td>\n",
       "      <td>0.014706</td>\n",
       "      <td>0.000472</td>\n",
       "      <td>0.005096</td>\n",
       "      <td>0.008361</td>\n",
       "      <td>-0.013503</td>\n",
       "      <td>-0.011558</td>\n",
       "      <td>-0.005802</td>\n",
       "      <td>-0.007043</td>\n",
       "      <td>-0.001219</td>\n",
       "      <td>0.000658</td>\n",
       "      <td>0.005398</td>\n",
       "      <td>0.005888</td>\n",
       "    </tr>\n",
       "    <tr>\n",
       "      <th>2020-01-15</th>\n",
       "      <td>-0.002149</td>\n",
       "      <td>-0.001462</td>\n",
       "      <td>-0.001697</td>\n",
       "      <td>-0.001590</td>\n",
       "      <td>0.056146</td>\n",
       "      <td>0.031847</td>\n",
       "      <td>0.016110</td>\n",
       "      <td>0.019845</td>\n",
       "      <td>0.019504</td>\n",
       "      <td>0.015730</td>\n",
       "      <td>-0.004462</td>\n",
       "      <td>0.028345</td>\n",
       "      <td>-0.004285</td>\n",
       "      <td>-0.003969</td>\n",
       "      <td>0.005815</td>\n",
       "      <td>0.006476</td>\n",
       "      <td>0.012691</td>\n",
       "      <td>0.013034</td>\n",
       "      <td>0.015541</td>\n",
       "      <td>0.010166</td>\n",
       "    </tr>\n",
       "    <tr>\n",
       "      <th>2020-01-16</th>\n",
       "      <td>0.001077</td>\n",
       "      <td>0.006544</td>\n",
       "      <td>-0.000850</td>\n",
       "      <td>-0.003908</td>\n",
       "      <td>0.010057</td>\n",
       "      <td>-0.003086</td>\n",
       "      <td>0.006893</td>\n",
       "      <td>0.003229</td>\n",
       "      <td>0.010363</td>\n",
       "      <td>0.011606</td>\n",
       "      <td>0.003532</td>\n",
       "      <td>0.014608</td>\n",
       "      <td>0.012526</td>\n",
       "      <td>0.008550</td>\n",
       "      <td>0.008685</td>\n",
       "      <td>0.018323</td>\n",
       "      <td>0.006266</td>\n",
       "      <td>0.007460</td>\n",
       "      <td>0.002743</td>\n",
       "      <td>0.008692</td>\n",
       "    </tr>\n",
       "  </tbody>\n",
       "</table>\n",
       "</div>"
      ],
      "text/plain": [
       "                 COP       CVX      SHEL       XOM       CDE        HL  \\\n",
       "Date                                                                     \n",
       "2020-01-03  0.003666 -0.003459  0.007867 -0.008040 -0.014085 -0.020468   \n",
       "2020-01-06  0.011872 -0.003388  0.012456  0.007678 -0.100000 -0.011940   \n",
       "2020-01-07  0.000000 -0.012770 -0.009186 -0.008184 -0.005772  0.030211   \n",
       "2020-01-08 -0.023165 -0.011423 -0.011755 -0.015080 -0.087083 -0.043988   \n",
       "2020-01-09  0.017400 -0.001614 -0.000168  0.007656  0.017488 -0.058282   \n",
       "2020-01-10 -0.009838 -0.009106 -0.011227 -0.008888  0.023438  0.003257   \n",
       "2020-01-13 -0.004433  0.001889 -0.000847  0.009546 -0.018321 -0.009740   \n",
       "2020-01-14  0.000154 -0.003086 -0.000678 -0.008596  0.024883  0.029508   \n",
       "2020-01-15 -0.002149 -0.001462 -0.001697 -0.001590  0.056146  0.031847   \n",
       "2020-01-16  0.001077  0.006544 -0.000850 -0.003908  0.010057 -0.003086   \n",
       "\n",
       "                 NEM      RGLD       CVS       ELV       HCA       UNH  \\\n",
       "Date                                                                     \n",
       "2020-01-03 -0.009024 -0.008174 -0.007956 -0.013261  0.003051 -0.010120   \n",
       "2020-01-06  0.010040 -0.010988  0.003942  0.012025  0.003785  0.006942   \n",
       "2020-01-07 -0.000694  0.011531 -0.003791 -0.003029 -0.001347 -0.006037   \n",
       "2020-01-08 -0.026602 -0.071393 -0.012503  0.026507  0.006608  0.021084   \n",
       "2020-01-09 -0.009981  0.005287  0.002752 -0.003480 -0.012460 -0.005678   \n",
       "2020-01-10  0.014642  0.014262 -0.010294  0.004341  0.004884  0.003093   \n",
       "2020-01-13  0.004258 -0.022937  0.009014 -0.035745 -0.006615 -0.031444   \n",
       "2020-01-14  0.008952  0.010703  0.014706  0.000472  0.005096  0.008361   \n",
       "2020-01-15  0.016110  0.019845  0.019504  0.015730 -0.004462  0.028345   \n",
       "2020-01-16  0.006893  0.003229  0.010363  0.011606  0.003532  0.014608   \n",
       "\n",
       "                AAPL      AMZN      GOOG      MSFT         D       DUK  \\\n",
       "Date                                                                     \n",
       "2020-01-03 -0.009722 -0.012139 -0.004907 -0.012452 -0.002440  0.000664   \n",
       "2020-01-06  0.007969  0.014886  0.024657  0.002585  0.007706  0.004867   \n",
       "2020-01-07 -0.004703  0.002092 -0.000624 -0.009118 -0.002185 -0.006275   \n",
       "2020-01-08  0.016086 -0.007809  0.007880  0.015929 -0.006325  0.001440   \n",
       "2020-01-09  0.021241  0.004799  0.011044  0.012493  0.002816  0.002434   \n",
       "2020-01-10  0.002261 -0.009411  0.006973 -0.004627  0.001831 -0.001986   \n",
       "2020-01-13  0.021364  0.004323  0.006645  0.012025 -0.000244  0.008845   \n",
       "2020-01-14 -0.013503 -0.011558 -0.005802 -0.007043 -0.001219  0.000658   \n",
       "2020-01-15 -0.004285 -0.003969  0.005815  0.006476  0.012691  0.013034   \n",
       "2020-01-16  0.012526  0.008550  0.008685  0.018323  0.006266  0.007460   \n",
       "\n",
       "                 NEE        SO  \n",
       "Date                            \n",
       "2020-01-03  0.007124 -0.000958  \n",
       "2020-01-06  0.004993  0.003996  \n",
       "2020-01-07 -0.000870 -0.003025  \n",
       "2020-01-08 -0.000456 -0.000320  \n",
       "2020-01-09  0.007836  0.010543  \n",
       "2020-01-10  0.001892  0.006323  \n",
       "2020-01-13  0.011702  0.013823  \n",
       "2020-01-14  0.005398  0.005888  \n",
       "2020-01-15  0.015541  0.010166  \n",
       "2020-01-16  0.002743  0.008692  "
      ]
     },
     "execution_count": 41,
     "metadata": {},
     "output_type": "execute_result"
    }
   ],
   "source": [
    "#Let's take a quick look at the returns in the COVID testing dataset\n",
    "\n",
    "COVID_rets = COVID_TESTING_df.pct_change().dropna()\n",
    "COVID_rets.head(10)"
   ]
  },
  {
   "cell_type": "code",
   "execution_count": 42,
   "metadata": {},
   "outputs": [
    {
     "name": "stdout",
     "output_type": "stream",
     "text": [
      "('CVS', 'UNH', 'AAPL', 'AMZN', 'MSFT', 'NEE', 'SO') : 0.9943844820853028\n",
      "('CVS', 'UNH', 'AAPL', 'AMZN', 'MSFT', 'DUK', 'NEE') : 0.9943122412682911\n",
      "('CVS', 'UNH', 'AMZN', 'GOOG', 'MSFT', 'NEE', 'SO') : 0.9775785824135252\n",
      "('SHEL', 'CVS', 'UNH', 'AMZN', 'MSFT', 'NEE', 'SO') : 0.977593949164001\n",
      "('CVS', 'UNH', 'AMZN', 'GOOG', 'MSFT', 'DUK', 'NEE') : 0.9776229348307766\n"
     ]
    }
   ],
   "source": [
    "#Now let's take a look at how the top portfolios found using the training dataset performed in the COVID testing dataset\n",
    "\n",
    "for portfolio in train_top_5_portfolios:\n",
    "    \n",
    "    weights = train_port_weight_dict[portfolio]\n",
    "    portfolio_df = COVID_TESTING_df[list(portfolio)]\n",
    "    sharpe_ratio = -min_func_sharpe(weights, portfolio_df)\n",
    "    \n",
    "    print(str(portfolio) + \" : \" + str(sharpe_ratio))"
   ]
  },
  {
   "cell_type": "code",
   "execution_count": 43,
   "metadata": {},
   "outputs": [
    {
     "name": "stdout",
     "output_type": "stream",
     "text": [
      "Portfolio Returns: 0.2761959038778191\n",
      "Portfolio Volatility: 0.27775564568205496\n"
     ]
    }
   ],
   "source": [
    "#Now let's take a look closer at how the top portfolio in the training dataset performed\n",
    "\n",
    "weights = train_port_weight_dict[top_port]\n",
    "portfolio_df = COVID_TESTING_df[list(top_port)]\n",
    "COVID_port_ret = port_ret(weights, portfolio_df)\n",
    "COVID_port_vol = port_vol(weights, portfolio_df)\n",
    "print(\"Portfolio Returns: \" + str(COVID_port_ret))\n",
    "print(\"Portfolio Volatility: \" + str(COVID_port_vol))"
   ]
  },
  {
   "cell_type": "code",
   "execution_count": 44,
   "metadata": {},
   "outputs": [
    {
     "data": {
      "image/png": "[encoded data removed]",
      "text/plain": [
       "<Figure size 720x576 with 9 Axes>"
      ]
     },
     "metadata": {
      "needs_background": "light"
     },
     "output_type": "display_data"
    }
   ],
   "source": [
    "port_rets = COVID_rets[list(top_port)]\n",
    "port_rets.hist(bins = 40, figsize = (10, 8));"
   ]
  }
 ],
 "metadata": {
  "kernelspec": {
   "display_name": "Python 3",
   "language": "python",
   "name": "python3"
  },
  "language_info": {
   "codemirror_mode": {
    "name": "ipython",
    "version": 3
   },
   "file_extension": ".py",
   "mimetype": "text/x-python",
   "name": "python",
   "nbconvert_exporter": "python",
   "pygments_lexer": "ipython3",
   "version": "3.6.8"
  }
 },
 "nbformat": 4,
 "nbformat_minor": 4
}
